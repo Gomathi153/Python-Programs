{
 "cells": [
  {
   "cell_type": "markdown",
   "id": "5a7e4b2e",
   "metadata": {},
   "source": [
    "# Write a program to calculate the areas of the following shapes"
   ]
  },
  {
   "cell_type": "markdown",
   "id": "4f52ff74",
   "metadata": {},
   "source": [
    "# Rectangle\n"
   ]
  },
  {
   "cell_type": "code",
   "execution_count": 2,
   "id": "b09fbc62",
   "metadata": {},
   "outputs": [
    {
     "name": "stdout",
     "output_type": "stream",
     "text": [
      "Enter the value :15\n",
      "Enter the value :15\n",
      "The area of Rectangle is : 225\n"
     ]
    }
   ],
   "source": [
    "l=int(input(\"Enter the value :\"))\n",
    "b=int(input(\"Enter the value :\"))\n",
    "area=l*b\n",
    "print(\"The area of Rectangle is :\",area)"
   ]
  },
  {
   "cell_type": "markdown",
   "id": "dedf52f8",
   "metadata": {},
   "source": [
    "# Square"
   ]
  },
  {
   "cell_type": "code",
   "execution_count": 3,
   "id": "6b5d26ad",
   "metadata": {},
   "outputs": [
    {
     "name": "stdout",
     "output_type": "stream",
     "text": [
      "Enter the value :25\n",
      "Enter the value :67\n",
      "The area of square is : 1675\n"
     ]
    }
   ],
   "source": [
    "s1=int(input(\"Enter the value :\"))\n",
    "s2=int(input(\"Enter the value :\"))\n",
    "square = s1*s2\n",
    "print(\"The area of square is :\",square)"
   ]
  },
  {
   "cell_type": "markdown",
   "id": "4c54ea32",
   "metadata": {},
   "source": [
    "# Triangle"
   ]
  },
  {
   "cell_type": "code",
   "execution_count": 4,
   "id": "1b49a2a1",
   "metadata": {},
   "outputs": [
    {
     "name": "stdout",
     "output_type": "stream",
     "text": [
      "Enter the value :45\n",
      "Enter the value :66\n",
      "The area of triangle is : 1485.0\n"
     ]
    }
   ],
   "source": [
    "b=int(input(\"Enter the value :\"))\n",
    "h=int(input(\"Enter the value :\"))\n",
    "area=1/2*b*h\n",
    "print(\"The area of triangle is :\",area)"
   ]
  },
  {
   "cell_type": "markdown",
   "id": "eea67ae1",
   "metadata": {},
   "source": [
    "# Square"
   ]
  },
  {
   "cell_type": "code",
   "execution_count": 5,
   "id": "489fb8e4",
   "metadata": {},
   "outputs": [
    {
     "name": "stdout",
     "output_type": "stream",
     "text": [
      "Enter the value :34\n",
      "The area of circle is : 3629.84\n"
     ]
    }
   ],
   "source": [
    "r=int(input(\"Enter the value :\"));\n",
    "a=3.14*r*r\n",
    "print(\"The area of circle is :\",a)"
   ]
  },
  {
   "cell_type": "markdown",
   "id": "2f9ad089",
   "metadata": {},
   "source": [
    "# write a program to calculate net salary of an employee whose basic salary is entered by the user ,DA is 5% of basic salary,HRA is 7% of basic salary and PF is 3% of basic salary"
   ]
  },
  {
   "cell_type": "code",
   "execution_count": 4,
   "id": "13c6d38f",
   "metadata": {},
   "outputs": [
    {
     "name": "stdout",
     "output_type": "stream",
     "text": [
      "Enter salary25000\n",
      "Net salary : 28750.0\n"
     ]
    }
   ],
   "source": [
    "salary=int(input(\"Enter salary\"))\n",
    "Da=(5*salary)/100\n",
    "Hra=(7*salary)/100\n",
    "Pf=(3*salary)/100\n",
    "Netsalary=Da+Hra+Pf+salary\n",
    "print(\"Net salary :\",Netsalary)"
   ]
  },
  {
   "cell_type": "markdown",
   "id": "aaf7303d",
   "metadata": {},
   "source": [
    "# Write a program to calculate power of number"
   ]
  },
  {
   "cell_type": "code",
   "execution_count": 17,
   "id": "7a096ba9",
   "metadata": {},
   "outputs": [
    {
     "name": "stdout",
     "output_type": "stream",
     "text": [
      "Enter the number :12\n",
      "Enter the number :12\n",
      "Power : 8916100448256\n"
     ]
    }
   ],
   "source": [
    "a=int(input(\"Enter the number :\"))\n",
    "b=int(input(\"Enter the number :\"))\n",
    "c=a**b\n",
    "print(\"Power :\",c)\n"
   ]
  },
  {
   "cell_type": "markdown",
   "id": "1d3e3917",
   "metadata": {},
   "source": [
    "# write a program to get the python version you are using"
   ]
  },
  {
   "cell_type": "code",
   "execution_count": 2,
   "id": "8deeaed3",
   "metadata": {},
   "outputs": [
    {
     "name": "stdout",
     "output_type": "stream",
     "text": [
      "3.9.13\n"
     ]
    }
   ],
   "source": [
    "from platform import python_version\n",
    "print(python_version())\n"
   ]
  },
  {
   "cell_type": "code",
   "execution_count": null,
   "id": "cce476d7",
   "metadata": {},
   "outputs": [],
   "source": []
  }
 ],
 "metadata": {
  "kernelspec": {
   "display_name": "Python 3 (ipykernel)",
   "language": "python",
   "name": "python3"
  },
  "language_info": {
   "codemirror_mode": {
    "name": "ipython",
    "version": 3
   },
   "file_extension": ".py",
   "mimetype": "text/x-python",
   "name": "python",
   "nbconvert_exporter": "python",
   "pygments_lexer": "ipython3",
   "version": "3.9.13"
  }
 },
 "nbformat": 4,
 "nbformat_minor": 5
}
