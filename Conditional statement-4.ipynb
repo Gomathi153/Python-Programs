{
 "cells": [
  {
   "cell_type": "markdown",
   "id": "aa83e99b",
   "metadata": {},
   "source": [
    "# 1.A company decide to give bonus 5% to employee if his/her year of service is more than 5 years.ask user for their salary and year of service and print the net bonus amount"
   ]
  },
  {
   "cell_type": "code",
   "execution_count": 6,
   "id": "00dac563",
   "metadata": {},
   "outputs": [
    {
     "name": "stdout",
     "output_type": "stream",
     "text": [
      "Enter the salary :50000\n",
      "Enter the experience :8\n",
      "Eligible for Bonus 2500.0\n"
     ]
    }
   ],
   "source": [
    "salary = int(input(\"Enter the salary :\"))\n",
    "experience = int(input(\"Enter the experience :\"))\n",
    "if (experience>5):\n",
    "    bonus=0.05*salary\n",
    "    print(\"Eligible for Bonus\",bonus)\n",
    "else:\n",
    "    print(\"Not eligibile for Bonus\")"
   ]
  },
  {
   "cell_type": "markdown",
   "id": "87499d74",
   "metadata": {},
   "source": [
    "# 2.Write a program to input of length and breadth of a rectangle from user and check if it is square or not"
   ]
  },
  {
   "cell_type": "code",
   "execution_count": 10,
   "id": "303b3b7f",
   "metadata": {},
   "outputs": [
    {
     "name": "stdout",
     "output_type": "stream",
     "text": [
      "Enter the length :25\n",
      "Enter the breadth :25\n",
      "It is square\n"
     ]
    }
   ],
   "source": [
    "l=int(input(\"Enter the length :\"))\n",
    "b=int(input(\"Enter the breadth :\"))\n",
    "if(l==b):\n",
    "    print(\"It is square\")\n",
    "else: \n",
    "    print(\"Not a square\")"
   ]
  },
  {
   "cell_type": "markdown",
   "id": "8449da4e",
   "metadata": {},
   "source": [
    "# 3.Take input of age of 3 people by user and determine oldest and youngest among them\n"
   ]
  },
  {
   "cell_type": "code",
   "execution_count": 12,
   "id": "8c3f7bbf",
   "metadata": {},
   "outputs": [
    {
     "name": "stdout",
     "output_type": "stream",
     "text": [
      "Enter the number :40\n",
      "Enter the number :30\n",
      "Enter the number :40\n",
      "C is Oldest\n",
      "B is Youngest\n"
     ]
    }
   ],
   "source": [
    "a=int(input(\"Enter the number :\"))\n",
    "b=int(input(\"Enter the number :\"))\n",
    "c=int(input(\"Enter the number :\"))\n",
    "if a>b and a>c:\n",
    "    print(\"A is Oldest\")\n",
    "elif b>a and a>c:\n",
    "    print(\"B is Oldest\")\n",
    "else:\n",
    "    print(\"C is Oldest\")\n",
    "if a<b and a<c:\n",
    "    print(\"A is Youngest\")\n",
    "elif b<a and b<c:\n",
    "    print(\"B is Youngest\")\n",
    "else:\n",
    "    print(\"C is Youngest\")"
   ]
  },
  {
   "cell_type": "code",
   "execution_count": null,
   "id": "1b8aa197",
   "metadata": {},
   "outputs": [],
   "source": []
  }
 ],
 "metadata": {
  "kernelspec": {
   "display_name": "Python 3 (ipykernel)",
   "language": "python",
   "name": "python3"
  },
  "language_info": {
   "codemirror_mode": {
    "name": "ipython",
    "version": 3
   },
   "file_extension": ".py",
   "mimetype": "text/x-python",
   "name": "python",
   "nbconvert_exporter": "python",
   "pygments_lexer": "ipython3",
   "version": "3.9.13"
  }
 },
 "nbformat": 4,
 "nbformat_minor": 5
}
