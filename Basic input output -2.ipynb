{
 "cells": [
  {
   "cell_type": "markdown",
   "id": "f46b221f",
   "metadata": {},
   "source": [
    "# Write a program to swap two numbers"
   ]
  },
  {
   "cell_type": "code",
   "execution_count": 1,
   "id": "657ef208",
   "metadata": {},
   "outputs": [
    {
     "name": "stdout",
     "output_type": "stream",
     "text": [
      "********Swap of two numbers******** \n",
      "The value of x is : 190\n",
      "The value of y is : 90\n"
     ]
    }
   ],
   "source": [
    "x=90\n",
    "y=190\n",
    "print(\"********Swap of two numbers******** \")\n",
    "temp=x\n",
    "x=y\n",
    "y=temp\n",
    "print(\"The value of x is :\",x)\n",
    "print(\"The value of y is :\",y)"
   ]
  },
  {
   "cell_type": "markdown",
   "id": "6d0f5bef",
   "metadata": {},
   "source": [
    "# Write a program to swap two numbers without using third variable"
   ]
  },
  {
   "cell_type": "code",
   "execution_count": 2,
   "id": "bcb7367b",
   "metadata": {},
   "outputs": [
    {
     "name": "stdout",
     "output_type": "stream",
     "text": [
      "*******After swapping********* \n",
      "The value of Y is : 850\n",
      "The value of Y is : 300\n"
     ]
    }
   ],
   "source": [
    "x=300\n",
    "y=850\n",
    "print(\"*******After swapping********* \")\n",
    "x , y = y , x\n",
    "print(\"The value of Y is :\",x)\n",
    "print(\"The value of Y is :\",y)"
   ]
  },
  {
   "cell_type": "markdown",
   "id": "8a6ae204",
   "metadata": {},
   "source": [
    "# Write a program to compute simple interest"
   ]
  },
  {
   "cell_type": "code",
   "execution_count": 4,
   "id": "24c8bbc7",
   "metadata": {},
   "outputs": [
    {
     "name": "stdout",
     "output_type": "stream",
     "text": [
      "Enter the value : 56\n",
      "Enter the value : 27\n",
      "Enter the valur : 88\n",
      "The value is : 1330.56\n"
     ]
    }
   ],
   "source": [
    "s1=int(input(\"Enter the value : \"))\n",
    "s2=int(input(\"Enter the value : \"))\n",
    "s3=int(input(\"Enter the valur : \"))\n",
    "SI=s1*s2*s3/100\n",
    "print(\"The value is :\",SI)\n"
   ]
  },
  {
   "cell_type": "markdown",
   "id": "f4ab8cae",
   "metadata": {},
   "source": [
    "# Write a program to find average of five numbers by user input"
   ]
  },
  {
   "cell_type": "code",
   "execution_count": 5,
   "id": "e18ab6dc",
   "metadata": {},
   "outputs": [
    {
     "name": "stdout",
     "output_type": "stream",
     "text": [
      "Enter the number :45\n",
      "Enter the number :88\n",
      "Enter the number :24\n",
      "Enter the number :12\n",
      "Enter the number :78\n",
      "The average value is : 184.6\n"
     ]
    }
   ],
   "source": [
    "n1=int(input(\"Enter the number :\"))\n",
    "n2=int(input(\"Enter the number :\"))\n",
    "n3=int(input(\"Enter the number :\"))\n",
    "n4=int(input(\"Enter the number :\"))\n",
    "n5=int(input(\"Enter the number :\"))\n",
    "avg=n1+n2+n3+n4+n5/5\n",
    "print(\"The average value is :\",avg)\n"
   ]
  },
  {
   "cell_type": "markdown",
   "id": "4d13f203",
   "metadata": {},
   "source": [
    "# Write a program to calculate the discriminant of a quadratic equation"
   ]
  },
  {
   "cell_type": "code",
   "execution_count": 7,
   "id": "1ba5b2f0",
   "metadata": {},
   "outputs": [
    {
     "name": "stdout",
     "output_type": "stream",
     "text": [
      "Enter the number :10\n",
      "Enter the number :45\n",
      "Enter the number :67\n",
      "The Value is : -655\n"
     ]
    }
   ],
   "source": [
    "l1=int(input(\"Enter the number :\"))\n",
    "l2=int(input(\"Enter the number :\"))\n",
    "l3=int(input(\"Enter the number :\"))\n",
    "l=(l2**2)-(4*l1*l3)\n",
    "print(\"The Value is :\",l)"
   ]
  },
  {
   "cell_type": "code",
   "execution_count": null,
   "id": "284957b4",
   "metadata": {},
   "outputs": [],
   "source": []
  }
 ],
 "metadata": {
  "kernelspec": {
   "display_name": "Python 3 (ipykernel)",
   "language": "python",
   "name": "python3"
  },
  "language_info": {
   "codemirror_mode": {
    "name": "ipython",
    "version": 3
   },
   "file_extension": ".py",
   "mimetype": "text/x-python",
   "name": "python",
   "nbconvert_exporter": "python",
   "pygments_lexer": "ipython3",
   "version": "3.9.13"
  }
 },
 "nbformat": 4,
 "nbformat_minor": 5
}
