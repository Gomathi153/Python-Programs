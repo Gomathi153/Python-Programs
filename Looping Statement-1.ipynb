{
 "cells": [
  {
   "cell_type": "markdown",
   "id": "765bed56",
   "metadata": {},
   "source": [
    "# 1.Write a program to print \"Hello Python\" ten times."
   ]
  },
  {
   "cell_type": "code",
   "execution_count": 3,
   "id": "b5af9575",
   "metadata": {},
   "outputs": [
    {
     "name": "stdout",
     "output_type": "stream",
     "text": [
      "Hello Python\n",
      "Hello Python\n",
      "Hello Python\n",
      "Hello Python\n",
      "Hello Python\n",
      "Hello Python\n",
      "Hello Python\n",
      "Hello Python\n",
      "Hello Python\n",
      "Hello Python\n"
     ]
    }
   ],
   "source": [
    "i=1\n",
    "while i<=10:\n",
    "    print(\"Hello Python\")\n",
    "    i+=1"
   ]
  },
  {
   "cell_type": "markdown",
   "id": "7c67d0cf",
   "metadata": {},
   "source": [
    "# 2.Write a program to print number from 1 to 10.\n"
   ]
  },
  {
   "cell_type": "code",
   "execution_count": null,
   "id": "018f6478",
   "metadata": {},
   "outputs": [],
   "source": [
    "i=1\n",
    "while i<=10:\n",
    "    print(\"1\")"
   ]
  }
 ],
 "metadata": {
  "kernelspec": {
   "display_name": "Python 3 (ipykernel)",
   "language": "python",
   "name": "python3"
  },
  "language_info": {
   "codemirror_mode": {
    "name": "ipython",
    "version": 3
   },
   "file_extension": ".py",
   "mimetype": "text/x-python",
   "name": "python",
   "nbconvert_exporter": "python",
   "pygments_lexer": "ipython3",
   "version": "3.9.13"
  }
 },
 "nbformat": 4,
 "nbformat_minor": 5
}
