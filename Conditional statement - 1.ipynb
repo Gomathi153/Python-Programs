{
 "cells": [
  {
   "cell_type": "markdown",
   "id": "88c7cf81",
   "metadata": {},
   "source": [
    "# 1.Write a program to check whether a given number is even or odd."
   ]
  },
  {
   "cell_type": "code",
   "execution_count": 1,
   "id": "4aae659c",
   "metadata": {},
   "outputs": [
    {
     "name": "stdout",
     "output_type": "stream",
     "text": [
      "Enter the number :8\n",
      "The number is even\n"
     ]
    }
   ],
   "source": [
    "num=int(input(\"Enter the number :\"))\n",
    "if(num%2==0):\n",
    "    print(\"The number is even\")\n",
    "else:\n",
    "    print(\"The number is odd\")"
   ]
  },
  {
   "cell_type": "markdown",
   "id": "ddf99e51",
   "metadata": {},
   "source": [
    "# 2.Write a program to check whether an alphabet is a vowel or consonant.¶"
   ]
  },
  {
   "cell_type": "code",
   "execution_count": 4,
   "id": "294d0c40",
   "metadata": {},
   "outputs": [
    {
     "name": "stdout",
     "output_type": "stream",
     "text": [
      "Enter the alphabet :g\n",
      "Consonant\n"
     ]
    }
   ],
   "source": [
    "alphabet=input(\"Enter the alphabet :\")\n",
    "if (alphabet==('a'or'e'or'i'or'o'or'u')):\n",
    "    print(\"Vowel\")\n",
    "else:\n",
    "    print(\"Consonant\")"
   ]
  },
  {
   "cell_type": "markdown",
   "id": "46c90953",
   "metadata": {},
   "source": [
    "# 3.Write a program to check whether a person is eligible to vote or not"
   ]
  },
  {
   "cell_type": "code",
   "execution_count": 10,
   "id": "0988fbf9",
   "metadata": {},
   "outputs": [
    {
     "name": "stdout",
     "output_type": "stream",
     "text": [
      "Enter the age :20\n",
      "Eligible for vote\n"
     ]
    }
   ],
   "source": [
    "person=int(input(\"Enter the age :\"))\n",
    "if(person>=18):\n",
    "    print(\"Eligible for vote\")\n",
    "else:\n",
    "    print(\"Not Eligible for vote\")\n",
    "\n",
    "    \n",
    "    "
   ]
  },
  {
   "cell_type": "markdown",
   "id": "b0651b69",
   "metadata": {},
   "source": [
    "# 4.write a program to check whether a given number is positive ,negative or Zero"
   ]
  },
  {
   "cell_type": "code",
   "execution_count": 1,
   "id": "a2cc56a6",
   "metadata": {},
   "outputs": [
    {
     "name": "stdout",
     "output_type": "stream",
     "text": [
      "Enter the number :40\n",
      "Number is positive\n"
     ]
    }
   ],
   "source": [
    "num=int(input(\"Enter the number :\"))\n",
    "if(num>=1):\n",
    "    print(\"Number is positive\")\n",
    "elif(num<=-1):\n",
    "    print(\"Number is negative\")\n",
    "else:\n",
    "    print(\"zero\")      \n",
    "\n",
    "          "
   ]
  },
  {
   "cell_type": "markdown",
   "id": "7e32c2bd",
   "metadata": {},
   "source": [
    "# 5.Write a program to check whether a given year is leap year or not"
   ]
  },
  {
   "cell_type": "code",
   "execution_count": 2,
   "id": "81fbdf4b",
   "metadata": {},
   "outputs": [
    {
     "name": "stdout",
     "output_type": "stream",
     "text": [
      "Enter the year :2024\n",
      "Leap year\n"
     ]
    }
   ],
   "source": [
    "a=int(input(\"Enter the year :\"))\n",
    "if(a%4==0):\n",
    "    print(\"Leap year\")\n",
    "else:\n",
    "    print(\"Not a leap year\")"
   ]
  },
  {
   "cell_type": "markdown",
   "id": "4a6eb679",
   "metadata": {},
   "source": [
    "# 6.Write a program to check a triangle is equilateral,isosceles or scalene."
   ]
  },
  {
   "cell_type": "code",
   "execution_count": 9,
   "id": "25a71e6c",
   "metadata": {},
   "outputs": [
    {
     "name": "stdout",
     "output_type": "stream",
     "text": [
      "Enter the side :31\n",
      "Enter the side :31\n",
      "Enter the side :20\n",
      "The triangle is isosceles\n"
     ]
    }
   ],
   "source": [
    "a=int(input(\"Enter the side :\"))\n",
    "b=int(input(\"Enter the side :\"))\n",
    "c=int(input(\"Enter the side :\"))\n",
    "if(a==b==c):\n",
    "    print(\"The triangle is equilateral\")\n",
    "elif(a==b!=c):\n",
    "    print(\"The triangle is isosceles\")\n",
    "else:\n",
    "    print(\"The triangle is scalene\")\n",
    "    "
   ]
  },
  {
   "cell_type": "markdown",
   "id": "7d03d5b8",
   "metadata": {},
   "source": [
    "# 7.Write a program to check whether after selling a product its profit or loss"
   ]
  },
  {
   "cell_type": "code",
   "execution_count": 14,
   "id": "7e65f651",
   "metadata": {},
   "outputs": [
    {
     "name": "stdout",
     "output_type": "stream",
     "text": [
      "Enter the selling price :500\n",
      "Enter the cost price :550\n",
      "Its loss\n"
     ]
    }
   ],
   "source": [
    "sp=int(input(\"Enter the selling price :\"))\n",
    "cp=int(input(\"Enter the cost price :\"))\n",
    "if(sp>=cp):\n",
    "    print(\"Its profit\")\n",
    "else: \n",
    "    print(\"Its loss\")"
   ]
  }
 ],
 "metadata": {
  "kernelspec": {
   "display_name": "Python 3 (ipykernel)",
   "language": "python",
   "name": "python3"
  },
  "language_info": {
   "codemirror_mode": {
    "name": "ipython",
    "version": 3
   },
   "file_extension": ".py",
   "mimetype": "text/x-python",
   "name": "python",
   "nbconvert_exporter": "python",
   "pygments_lexer": "ipython3",
   "version": "3.9.13"
  }
 },
 "nbformat": 4,
 "nbformat_minor": 5
}
