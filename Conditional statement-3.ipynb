{
 "cells": [
  {
   "cell_type": "markdown",
   "id": "a1f5f61b",
   "metadata": {},
   "source": [
    "# 1.Write a program to enter a number between (1-12) and print the respective month."
   ]
  },
  {
   "cell_type": "code",
   "execution_count": 1,
   "id": "22fd6f4d",
   "metadata": {
    "scrolled": true
   },
   "outputs": [
    {
     "name": "stdout",
     "output_type": "stream",
     "text": [
      "Enter the month :10\n",
      "October\n"
     ]
    }
   ],
   "source": [
    "month=int(input(\"Enter the month :\"))\n",
    "if(month==1):\n",
    "    print(\"January\")\n",
    "elif(month==2):\n",
    "    print(\"February\")\n",
    "elif(month==3):\n",
    "    print(\"March\")\n",
    "elif(month==4):\n",
    "    print(\"April\")\n",
    "elif(month==5):\n",
    "    print(\"May\")\n",
    "elif(month==6):\n",
    "    print(\"June\")\n",
    "elif(month==7):\n",
    "    print(\"July\")\n",
    "elif(month==8):\n",
    "    print(\"August\")\n",
    "elif(month==9):\n",
    "    print(\"September\")\n",
    "elif(month==10):\n",
    "    print(\"October\")\n",
    "elif(month==11):\n",
    "    print(\"November\")\n",
    "elif(month==12):\n",
    "    print(\"December\")\n",
    "    \n"
   ]
  },
  {
   "cell_type": "markdown",
   "id": "22a81f45",
   "metadata": {},
   "source": [
    "# 2.Write a program to enter a number between (1-4) and perform the following operations."
   ]
  },
  {
   "cell_type": "markdown",
   "id": "6ea4f245",
   "metadata": {},
   "source": [
    "## 1.Addition"
   ]
  },
  {
   "cell_type": "code",
   "execution_count": 3,
   "id": "302a55e8",
   "metadata": {},
   "outputs": [
    {
     "name": "stdout",
     "output_type": "stream",
     "text": [
      "Enter the number :40\n",
      "Enter the number :50\n",
      "Enter the number :70\n",
      "Enter the number :20\n",
      "The addition is 90\n"
     ]
    }
   ],
   "source": [
    "n1=int(input(\"Enter the number :\"))\n",
    "n2=int(input(\"Enter the number :\"))\n",
    "n3=int(input(\"Enter the number :\"))\n",
    "n4=int(input(\"Enter the number :\"))\n",
    "number1=n1+n2\n",
    "number2=n3+n4\n",
    "if(number1==number2):\n",
    "    print(\"The addition is\",number1)\n",
    "else:\n",
    "    print(\"The addition is\",number2)"
   ]
  },
  {
   "cell_type": "markdown",
   "id": "56e83a21",
   "metadata": {},
   "source": [
    "## 2.Subraction\n"
   ]
  },
  {
   "cell_type": "code",
   "execution_count": 4,
   "id": "312f5afe",
   "metadata": {},
   "outputs": [
    {
     "name": "stdout",
     "output_type": "stream",
     "text": [
      "Enter the number :60\n",
      "Enter the number :10\n",
      "Enter the number :30\n",
      "Enter the number :40\n",
      "The subraction is -10\n"
     ]
    }
   ],
   "source": [
    "n1=int(input(\"Enter the number :\"))\n",
    "n2=int(input(\"Enter the number :\"))\n",
    "n3=int(input(\"Enter the number :\"))\n",
    "n4=int(input(\"Enter the number :\"))\n",
    "number1=n1-n2\n",
    "number2=n3-n4\n",
    "if(number1==number2):\n",
    "    print(\"The subraction is\",number1)\n",
    "else:\n",
    "    print(\"The subraction is\",number2)"
   ]
  },
  {
   "cell_type": "markdown",
   "id": "cc5e3625",
   "metadata": {},
   "source": [
    "## 3.Multiplication"
   ]
  },
  {
   "cell_type": "code",
   "execution_count": 5,
   "id": "aa1bc421",
   "metadata": {},
   "outputs": [
    {
     "name": "stdout",
     "output_type": "stream",
     "text": [
      "Enter the number :20\n",
      "Enter the number :40\n",
      "Enter the number :10\n",
      "Enter the number :25\n",
      "The multiplication is 250\n"
     ]
    }
   ],
   "source": [
    "n1=int(input(\"Enter the number :\"))\n",
    "n2=int(input(\"Enter the number :\"))\n",
    "n3=int(input(\"Enter the number :\"))\n",
    "n4=int(input(\"Enter the number :\"))\n",
    "number1=n1*n2\n",
    "number2=n3*n4\n",
    "if(number1==number2):\n",
    "    print(\"The multiplication is\",number1)\n",
    "else:\n",
    "    print(\"The multiplication is\",number2)"
   ]
  },
  {
   "cell_type": "markdown",
   "id": "c211aa21",
   "metadata": {},
   "source": [
    "## 4.Division"
   ]
  },
  {
   "cell_type": "code",
   "execution_count": null,
   "id": "063b6629",
   "metadata": {},
   "outputs": [],
   "source": [
    "n1=int(input(\"Enter the number :\"))\n",
    "n2=int(input(\"Enter the number :\"))\n",
    "n3=int(input(\"Enter the number :\"))\n",
    "n4=int(input(\"Enter the number :\"))\n",
    "number1=n1/n2\n",
    "number2=n3/n4\n",
    "if(number1==number2):\n",
    "    print(\"The division is\",number1)\n",
    "else:\n",
    "    print(\"The division is\",number2)"
   ]
  },
  {
   "cell_type": "markdown",
   "id": "144d2678",
   "metadata": {},
   "source": [
    "# 3.Write a program to convert temperatures to and from celsius,Fahrenheit."
   ]
  },
  {
   "cell_type": "code",
   "execution_count": 6,
   "id": "4d905b29",
   "metadata": {},
   "outputs": [
    {
     "ename": "SyntaxError",
     "evalue": "invalid syntax (2192112323.py, line 7)",
     "output_type": "error",
     "traceback": [
      "\u001b[1;36m  File \u001b[1;32m\"C:\\Users\\Gomathi\\AppData\\Local\\Temp\\ipykernel_12260\\2192112323.py\"\u001b[1;36m, line \u001b[1;32m7\u001b[0m\n\u001b[1;33m    elif:\u001b[0m\n\u001b[1;37m        ^\u001b[0m\n\u001b[1;31mSyntaxError\u001b[0m\u001b[1;31m:\u001b[0m invalid syntax\n"
     ]
    }
   ],
   "source": [
    "c=float(input(\"Enter the celsius :\"))\n",
    "f=float(input(\"Enter the fahrenheit :\"))\n",
    "fahrenheit=(c*1.8)+32\n",
    "celsius=(fahrenheit-32)/1.8\n",
    "if(fahrenheit==celsius):\n",
    "    print(\"The temperature is\",fahrenheit)\n",
    "elif:\n",
    "    print(\"The temperature is\",celsius)"
   ]
  },
  {
   "cell_type": "code",
   "execution_count": 8,
   "id": "3fd43ee4",
   "metadata": {},
   "outputs": [
    {
     "name": "stdout",
     "output_type": "stream",
     "text": [
      "59\n"
     ]
    }
   ],
   "source": [
    "a=5\n",
    "b=9\n",
    "x=str(a)\n",
    "y=str(b)\n",
    "print(x+y)"
   ]
  },
  {
   "cell_type": "code",
   "execution_count": null,
   "id": "1fb3bd44",
   "metadata": {},
   "outputs": [],
   "source": [
    "x=input()\n",
    "y=input()\n",
    "area=int(x)*int(y)\n",
    "print(area//9)"
   ]
  },
  {
   "cell_type": "code",
   "execution_count": null,
   "id": "fd35ee8f",
   "metadata": {},
   "outputs": [],
   "source": [
    "x=9\n",
    "x%=2\n",
    "x+=3\n",
    "print(x)"
   ]
  },
  {
   "cell_type": "code",
   "execution_count": null,
   "id": "7f250bc0",
   "metadata": {},
   "outputs": [],
   "source": []
  }
 ],
 "metadata": {
  "kernelspec": {
   "display_name": "Python 3 (ipykernel)",
   "language": "python",
   "name": "python3"
  },
  "language_info": {
   "codemirror_mode": {
    "name": "ipython",
    "version": 3
   },
   "file_extension": ".py",
   "mimetype": "text/x-python",
   "name": "python",
   "nbconvert_exporter": "python",
   "pygments_lexer": "ipython3",
   "version": "3.9.13"
  }
 },
 "nbformat": 4,
 "nbformat_minor": 5
}
