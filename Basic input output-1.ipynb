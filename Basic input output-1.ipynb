{
 "cells": [
  {
   "cell_type": "markdown",
   "id": "ab63b878",
   "metadata": {},
   "source": [
    "# Write a program to print yourself introduction"
   ]
  },
  {
   "cell_type": "code",
   "execution_count": 2,
   "id": "d18c5175",
   "metadata": {},
   "outputs": [
    {
     "name": "stdout",
     "output_type": "stream",
     "text": [
      "I'm Gomathi.I'm from TamilNadu.I did my master degree in MCA.My hobbies are net surfing and reading novels.I am a fresher and I have no work experience with any company.My strength is quickly adapt to the environment.My weakness is emotional in nature.My goal is to get placed in a reputed company\n"
     ]
    }
   ],
   "source": [
    "print(\"I'm Gomathi.I'm from TamilNadu.I did my master degree in MCA.My hobbies are net surfing and reading novels.\"\n",
    "      \"I am a fresher and I have no work experience with any company.My strength is quickly adapt to the environment.\"\n",
    "     \"My weakness is emotional in nature.My goal is to get placed in a reputed company\")"
   ]
  },
  {
   "cell_type": "markdown",
   "id": "dcc3c853",
   "metadata": {},
   "source": [
    "# Write a program to perform the following operations"
   ]
  },
  {
   "cell_type": "markdown",
   "id": "41f76a5f",
   "metadata": {},
   "source": [
    "# Addition"
   ]
  },
  {
   "cell_type": "code",
   "execution_count": 5,
   "id": "65df1592",
   "metadata": {},
   "outputs": [
    {
     "name": "stdout",
     "output_type": "stream",
     "text": [
      "Addition is : 525\n"
     ]
    }
   ],
   "source": [
    "a=225\n",
    "b=300\n",
    "c= a+b\n",
    "print(\"Addition is :\",c)"
   ]
  },
  {
   "cell_type": "markdown",
   "id": "f6bed54c",
   "metadata": {},
   "source": [
    "# Subtraction"
   ]
  },
  {
   "cell_type": "code",
   "execution_count": 6,
   "id": "6936ea34",
   "metadata": {},
   "outputs": [
    {
     "name": "stdout",
     "output_type": "stream",
     "text": [
      "Subtraction is : 850\n"
     ]
    }
   ],
   "source": [
    "a=1500\n",
    "b=650\n",
    "c=a-b\n",
    "print(\"Subtraction is :\",c)\n"
   ]
  },
  {
   "cell_type": "markdown",
   "id": "9f5f1cab",
   "metadata": {},
   "source": [
    "# Multiplication"
   ]
  },
  {
   "cell_type": "code",
   "execution_count": 7,
   "id": "c8d0b433",
   "metadata": {},
   "outputs": [
    {
     "name": "stdout",
     "output_type": "stream",
     "text": [
      "The value of Multiplication is : 2147500000\n"
     ]
    }
   ],
   "source": [
    "t1=25000\n",
    "t2=85900\n",
    "t=t1*t2\n",
    "print(\"The value of Multiplication is :\",t)"
   ]
  },
  {
   "cell_type": "markdown",
   "id": "6baa4698",
   "metadata": {},
   "source": [
    "# Division"
   ]
  },
  {
   "cell_type": "code",
   "execution_count": 8,
   "id": "913d9bfa",
   "metadata": {},
   "outputs": [
    {
     "name": "stdout",
     "output_type": "stream",
     "text": [
      "The value of Division is : 27.2\n"
     ]
    }
   ],
   "source": [
    "h1=6800\n",
    "h2=250\n",
    "h=h1/h2\n",
    "print(\"The value of Division is :\",h)"
   ]
  },
  {
   "cell_type": "markdown",
   "id": "7de25c14",
   "metadata": {},
   "source": [
    "# Modulus"
   ]
  },
  {
   "cell_type": "code",
   "execution_count": 16,
   "id": "be9d29c1",
   "metadata": {},
   "outputs": [
    {
     "name": "stdout",
     "output_type": "stream",
     "text": [
      "Modulus is : 4\n"
     ]
    }
   ],
   "source": [
    "n1=14\n",
    "n2=5\n",
    "n=n1%n2\n",
    "print(\"Modulus is :\",n)"
   ]
  },
  {
   "cell_type": "markdown",
   "id": "6fe68314",
   "metadata": {},
   "source": [
    "# Exponent"
   ]
  },
  {
   "cell_type": "code",
   "execution_count": 17,
   "id": "ebcefac8",
   "metadata": {},
   "outputs": [
    {
     "name": "stdout",
     "output_type": "stream",
     "text": [
      "Exponent is : 8916100448256\n"
     ]
    }
   ],
   "source": [
    "l1=12\n",
    "l2=12\n",
    "l=l1**l2\n",
    "print(\"Exponent is :\",l)"
   ]
  },
  {
   "cell_type": "markdown",
   "id": "af16d359",
   "metadata": {},
   "source": []
  }
 ],
 "metadata": {
  "kernelspec": {
   "display_name": "Python 3 (ipykernel)",
   "language": "python",
   "name": "python3"
  },
  "language_info": {
   "codemirror_mode": {
    "name": "ipython",
    "version": 3
   },
   "file_extension": ".py",
   "mimetype": "text/x-python",
   "name": "python",
   "nbconvert_exporter": "python",
   "pygments_lexer": "ipython3",
   "version": "3.9.13"
  }
 },
 "nbformat": 4,
 "nbformat_minor": 5
}
