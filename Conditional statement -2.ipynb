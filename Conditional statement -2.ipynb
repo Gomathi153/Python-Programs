{
 "cells": [
  {
   "cell_type": "markdown",
   "id": "60c28822",
   "metadata": {},
   "source": [
    "# 1. Write a program to enter two numbers and print the greatest number."
   ]
  },
  {
   "cell_type": "code",
   "execution_count": 6,
   "id": "d8ce920b",
   "metadata": {},
   "outputs": [
    {
     "name": "stdout",
     "output_type": "stream",
     "text": [
      "Enter the number :12\n",
      "Enter the number :31\n",
      "The greatest number is 31\n"
     ]
    }
   ],
   "source": [
    "n1=int(input(\"Enter the number :\"))\n",
    "n2=int(input(\"Enter the number :\"))\n",
    "if(n1>n2):\n",
    "    print(\"The greatest number is\",n1)\n",
    "else:\n",
    "    print(\"The greatest number is\",n2)"
   ]
  },
  {
   "cell_type": "markdown",
   "id": "2e105cc3",
   "metadata": {},
   "source": [
    "# 2.Write a program to enter two numbers and print smallest number.\n"
   ]
  },
  {
   "cell_type": "code",
   "execution_count": 7,
   "id": "098f0c51",
   "metadata": {},
   "outputs": [
    {
     "name": "stdout",
     "output_type": "stream",
     "text": [
      "Enter the number :20\n",
      "Enter the number :15\n",
      "The smallest number is 15\n"
     ]
    }
   ],
   "source": [
    "n1=int(input(\"Enter the number :\"))\n",
    "n2=int(input(\"Enter the number :\"))\n",
    "if(n1<n2):\n",
    "    print(\"The smallest number is \",n1)\n",
    "else:\n",
    "    print(\"The smallest number is\",n2)"
   ]
  },
  {
   "cell_type": "markdown",
   "id": "5cd25b44",
   "metadata": {},
   "source": [
    "# 3.write program to enter three numbers and print the greatest number."
   ]
  },
  {
   "cell_type": "code",
   "execution_count": 13,
   "id": "ebc6924d",
   "metadata": {},
   "outputs": [
    {
     "name": "stdout",
     "output_type": "stream",
     "text": [
      "Enter the number :100\n",
      "Enter the number :20\n",
      "Enter the number :80\n",
      "The greatest number is 100\n"
     ]
    }
   ],
   "source": [
    "n1=int(input(\"Enter the number :\"))\n",
    "n2=int(input(\"Enter the number :\"))\n",
    "n3=int(input(\"Enter the number :\"))\n",
    "if(n1>n2):\n",
    "    print(\"The greatest number is\",n1)\n",
    "elif(n2>n3):\n",
    "    print(\"The greatest number is\",n2)\n",
    "else:\n",
    "    print(\"The greatest number is\",n3)"
   ]
  },
  {
   "cell_type": "markdown",
   "id": "1f06a3f6",
   "metadata": {},
   "source": [
    "# 4.Write a program to enter three numbers and print the greatest number.\n"
   ]
  },
  {
   "cell_type": "code",
   "execution_count": 15,
   "id": "3a729825",
   "metadata": {},
   "outputs": [
    {
     "name": "stdout",
     "output_type": "stream",
     "text": [
      "Enter the number :100\n",
      "Enter the number :80\n",
      "Enter the number :75\n",
      "The smallest number is 75\n"
     ]
    }
   ],
   "source": [
    "n1=int(input(\"Enter the number :\"))\n",
    "n2=int(input(\"Enter the number :\"))\n",
    "n3=int(input(\"Enter the number :\"))\n",
    "if(n1<n2):\n",
    "    print(\"The smallest number is\",n1)\n",
    "elif(n2<n3):\n",
    "    print(\"The smallest number is\",n2)\n",
    "else:\n",
    "    print(\"The smallest number is\",n3)"
   ]
  },
  {
   "cell_type": "markdown",
   "id": "1ddf407d",
   "metadata": {},
   "source": [
    "# 5.Write a program to calculate the roots of quadratic equation."
   ]
  },
  {
   "cell_type": "code",
   "execution_count": 1,
   "id": "c0493210",
   "metadata": {},
   "outputs": [
    {
     "name": "stdout",
     "output_type": "stream",
     "text": [
      "Enter the number :2\n",
      "Enter the number :4\n",
      "Enter the number :8\n",
      "The roots are quadratic\n"
     ]
    }
   ],
   "source": [
    "a=int(input(\"Enter the number :\"))\n",
    "b=int(input(\"Enter the number :\"))\n",
    "c=int(input(\"Enter the number :\"))\n",
    "d=(b**2)-(4*a*c)\n",
    "d1=d*0.5\n",
    "if(d<0):\n",
    "    print(\"The roots are quadratic\")\n",
    "else:\n",
    "    r1=(-b+d1)/2*a\n",
    "    r2=(-b-d1)/2*a\n",
    "    print(\"The first root :\",r1,2)\n",
    "    print(\"The second root :\",r1,2)"
   ]
  },
  {
   "cell_type": "markdown",
   "id": "88f49b86",
   "metadata": {},
   "source": [
    "# 6.Write a program to enter a number between(1-7) and print the respective day of the week."
   ]
  },
  {
   "cell_type": "code",
   "execution_count": 19,
   "id": "18f1b550",
   "metadata": {},
   "outputs": [
    {
     "name": "stdout",
     "output_type": "stream",
     "text": [
      "Enter the day :6\n",
      "Friday\n"
     ]
    }
   ],
   "source": [
    "day=int(input(\"Enter the day :\"))\n",
    "if(day==1):\n",
    "    print(\"Sunday\")\n",
    "elif(day==2):\n",
    "    print(\"Monday\")\n",
    "elif(day==3):\n",
    "    print(\"Tuesday\")\n",
    "elif(day==4):\n",
    "    print(\"Wednesday\")\n",
    "elif(day==5):\n",
    "    print(\"Thrusday\")\n",
    "elif(day==6):\n",
    "    print(\"Friday\")\n",
    "elif(day==7):\n",
    "    print(\"Saturday\")\n",
    "    "
   ]
  },
  {
   "cell_type": "code",
   "execution_count": 3,
   "id": "4fe8b5dc",
   "metadata": {},
   "outputs": [
    {
     "name": "stdout",
     "output_type": "stream",
     "text": [
      "4\n"
     ]
    }
   ],
   "source": [
    "x=9\n",
    "x%=2\n",
    "x+=3\n",
    "print(x)"
   ]
  },
  {
   "cell_type": "code",
   "execution_count": 4,
   "id": "baced2c8",
   "metadata": {},
   "outputs": [
    {
     "name": "stdout",
     "output_type": "stream",
     "text": [
      "aaa\n"
     ]
    }
   ],
   "source": [
    "x=\"a\"\n",
    "x*=3\n",
    "print(x)"
   ]
  },
  {
   "cell_type": "code",
   "execution_count": 6,
   "id": "37641a81",
   "metadata": {},
   "outputs": [
    {
     "name": "stdout",
     "output_type": "stream",
     "text": [
      "73.0\n"
     ]
    }
   ],
   "source": [
    "spam= \"7\"\n",
    "spam= spam +\"0\"\n",
    "eggs= int(spam)+3\n",
    "print(float(eggs))"
   ]
  },
  {
   "cell_type": "code",
   "execution_count": 7,
   "id": "c746a07a",
   "metadata": {},
   "outputs": [
    {
     "name": "stdout",
     "output_type": "stream",
     "text": [
      "42\n",
      "50\n"
     ]
    }
   ],
   "source": [
    "age =int(input())\n",
    "print(age+8)"
   ]
  },
  {
   "cell_type": "code",
   "execution_count": 8,
   "id": "b4ad0a09",
   "metadata": {},
   "outputs": [
    {
     "name": "stdout",
     "output_type": "stream",
     "text": [
      "82\n"
     ]
    }
   ],
   "source": [
    "x=5\n",
    "y=x+3\n",
    "y=int(str(y)+\"2\")\n",
    "print(y)"
   ]
  },
  {
   "cell_type": "code",
   "execution_count": 9,
   "id": "8bdb9fd0",
   "metadata": {},
   "outputs": [
    {
     "name": "stdout",
     "output_type": "stream",
     "text": [
      "2\n"
     ]
    }
   ],
   "source": [
    "x=3\n",
    "num=17\n",
    "print(num%x)"
   ]
  },
  {
   "cell_type": "code",
   "execution_count": null,
   "id": "dfedd486",
   "metadata": {},
   "outputs": [],
   "source": []
  }
 ],
 "metadata": {
  "kernelspec": {
   "display_name": "Python 3 (ipykernel)",
   "language": "python",
   "name": "python3"
  },
  "language_info": {
   "codemirror_mode": {
    "name": "ipython",
    "version": 3
   },
   "file_extension": ".py",
   "mimetype": "text/x-python",
   "name": "python",
   "nbconvert_exporter": "python",
   "pygments_lexer": "ipython3",
   "version": "3.9.13"
  }
 },
 "nbformat": 4,
 "nbformat_minor": 5
}
